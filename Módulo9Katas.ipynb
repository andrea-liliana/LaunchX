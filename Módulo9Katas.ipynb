{
  "cells": [
    {
      "cell_type": "markdown",
      "metadata": {},
      "source": [
        "# Ejercicio: Uso de funciones en Python"
      ]
    },
    {
      "cell_type": "markdown",
      "metadata": {},
      "source": [
        "### Ejercicio 1: Trabajar con argumentos en funciones\n",
        "\n",
        "Los argumentos requeridos en las funciones se utilizan cuando las funciones necesitan que esos argumentos funcionen correctamente. En este ejercicio, construirás un informe de combustible que requiere información de varias ubicaciones de combustible en todo el cohete.\n",
        "\n"
      ]
    },
    {
      "cell_type": "markdown",
      "metadata": {},
      "source": [
        "> **TIP**\n",
        "> Dedica unos minutos para tratar de encontrar una solución. Luego desplázate hacia abajo hasta la parte inferior para ver si has logrado compilar el programa de acuerdo con las especificaciones\n",
        "\n",
        "Comienza por crear una función que necesite tres lecturas de combustible y devuelva un informe:"
      ]
    },
    {
      "cell_type": "code",
      "execution_count": 1,
      "metadata": {},
      "outputs": [],
      "source": [
        "# Función para leer 3 tanques de combustible y muestre el promedio\n",
        "\n",
        "def report (tank1, tank2, tank3):\n",
        "    \n",
        "    average = (tank1 + tank2 + tank3)/3\n",
        "    \n",
        "    return f\"\"\"Reporte de combustible:\n",
        "    Combustible promedio: {average}%\n",
        "    Tanque 1: {tank1}%\n",
        "    Tanque 2: {tank2}%\n",
        "    Tanque 3: {tank3}% \n",
        "    \"\"\""
      ]
    },
    {
      "cell_type": "markdown",
      "metadata": {},
      "source": [
        "Ahora que hemos definido la función de informes, vamos a comprobarlo. Para esta misión, los tanques no están llenos:"
      ]
    },
    {
      "cell_type": "code",
      "execution_count": 2,
      "metadata": {},
      "outputs": [
        {
          "name": "stdout",
          "output_type": "stream",
          "text": [
            "Reporte de combustible:\n",
            "    Combustible promedio: 66.66666666666667%\n",
            "    Tanque 1: 50%\n",
            "    Tanque 2: 70%\n",
            "    Tanque 3: 80% \n",
            "    \n"
          ]
        }
      ],
      "source": [
        "\n",
        "# Llamamos a la función que genera el reporte print(funcion(tanque1, tanque2, tanque3))\n",
        "\n",
        "print( report (50, 70, 80) )"
      ]
    },
    {
      "cell_type": "markdown",
      "metadata": {},
      "source": [
        "En lugar de simplemente crear el informe, la función también está calculando el promedio. Mejora la legibilidad extrayendo el cálculo promedio de la función en una nueva función para que el promedio se pueda hacer de forma independiente:"
      ]
    },
    {
      "cell_type": "code",
      "execution_count": 3,
      "metadata": {},
      "outputs": [
        {
          "data": {
            "text/plain": [
              "35.0"
            ]
          },
          "execution_count": 3,
          "metadata": {},
          "output_type": "execute_result"
        }
      ],
      "source": [
        "# Función promedio \n",
        "def average (values):\n",
        "    return sum(values) / len(values)\n",
        "\n",
        "average ([30,20,40,50])"
      ]
    },
    {
      "cell_type": "markdown",
      "metadata": {},
      "source": [
        "Ahora actualiza la función de informes para llamando a la nueva función del promedio:\n"
      ]
    },
    {
      "cell_type": "code",
      "execution_count": 4,
      "metadata": {},
      "outputs": [
        {
          "name": "stdout",
          "output_type": "stream",
          "text": [
            "Reporte de combustible:\n",
            "    Combustible promedio: 66.66666666666667%\n",
            "    Tanque 1: 50%\n",
            "    Tanque 2: 70%\n",
            "    Tanque 3: 80% \n",
            "    \n"
          ]
        }
      ],
      "source": [
        "# Actualiza la función\n",
        "def report_update (tank1, tank2, tank3):\n",
        "\n",
        "    return f\"\"\"Reporte de combustible:\n",
        "    Combustible promedio: {average([tank1, tank2, tank3])}%\n",
        "    Tanque 1: {tank1}%\n",
        "    Tanque 2: {tank2}%\n",
        "    Tanque 3: {tank3}% \n",
        "    \"\"\"\n",
        "\n",
        "print ( report_update (50, 70, 80) )"
      ]
    },
    {
      "cell_type": "markdown",
      "metadata": {},
      "source": [
        "> Recuerda: Lo importante es intentarlo, puedes auxiliarte de internet, libros, etc. El objetivo de una kata es la comprobación de la comprensión de la lección y su aplicación inmediata a la resolución de problemas. Go for it!"
      ]
    },
    {
      "cell_type": "markdown",
      "metadata": {},
      "source": [
        "## Ejercicio 2: Trabajo con argumentos de palabra clave"
      ]
    },
    {
      "cell_type": "markdown",
      "metadata": {},
      "source": [
        "### Ejercicio : Trabajar con argumentos de palabras clave en funciones\n",
        "En este ejercicio, construirás un informe de cohete que requiere varias piezas de información, como el tiempo hasta el destino, el combustible a la izquierda y el nombre del destino. Comienza por crear una función que creará un informe preciso de la misión:"
      ]
    },
    {
      "cell_type": "code",
      "execution_count": 5,
      "metadata": {},
      "outputs": [
        {
          "name": "stdout",
          "output_type": "stream",
          "text": [
            "Reporte de mision:\n",
            "    Destino: Marte\n",
            "    Hora de prelanzamiento: 20\n",
            "    Tiempo de vuelo: 60 minutos\n",
            "    Combustible total: 450000 litros\n",
            "    \n"
          ]
        }
      ],
      "source": [
        "# Función con un informe preciso de la misión. Considera hora de prelanzamiento, tiempo de vuelo, destino, tanque externo y tanque interno\n",
        "def mission_report (prelaunch_time, flight_time, destination, external_tank, internal_tank):\n",
        "    \n",
        "    return f\"\"\"Reporte de mision:\n",
        "    Destino: {destination}\n",
        "    Hora de prelanzamiento: {prelaunch_time}\n",
        "    Tiempo de vuelo: {flight_time} minutos\n",
        "    Combustible total: {external_tank + internal_tank} litros\n",
        "    \"\"\"\n",
        "    \n",
        "print(mission_report (20, 60, \"Marte\", 150000, 300000))"
      ]
    },
    {
      "cell_type": "markdown",
      "metadata": {},
      "source": [
        "La función es problemática porque no se puede adaptar para minutos adicionales o tanques adicionales de combustible. Hazlo más flexible permitiendo cualquier número de pasos basados en el tiempo y cualquier número de tanques. En lugar de usar `*args` y `**kwargs`, aprovecha el hecho de que puedes usar cualquier nombre que desees. Asegurate que la función sea más legible mediante el uso de nombres de variables que están asociados con las entradas, como `*minutes` y `**fuel_reservoirs`:"
      ]
    },
    {
      "cell_type": "code",
      "execution_count": 6,
      "metadata": {},
      "outputs": [
        {
          "name": "stdout",
          "output_type": "stream",
          "text": [
            "Reporte de misión:\n",
            "    Destino: Marte\n",
            "    Tiempo de viaje: 175 minutos\n",
            "    Combustible total: 7400000 litros\n",
            "    \n"
          ]
        }
      ],
      "source": [
        "# Escribe tu nueva función de reporte considerando lo anterior\n",
        "def mission_report_update (destination, *minutes, **fuel_reservoirs):\n",
        "    \n",
        "    return f\"\"\"Reporte de misión:\n",
        "    Destino: {destination}\n",
        "    Tiempo de viaje: {sum(minutes)} minutos\n",
        "    Combustible total: {sum ( fuel_reservoirs.values())} litros\n",
        "    \"\"\"\n",
        "    \n",
        "print(mission_report_update( \"Marte\", 25, 30, 120, external = 7000000, internal = 400000))\n"
      ]
    },
    {
      "cell_type": "markdown",
      "metadata": {},
      "source": [
        "Debido a que el combustible que queda en los tanques es específico de cada tanque, actualiza la función para usar el nombre de cada tanque en el informe:"
      ]
    },
    {
      "cell_type": "code",
      "execution_count": 7,
      "metadata": {},
      "outputs": [
        {
          "name": "stdout",
          "output_type": "stream",
          "text": [
            "Reporte de misión:\n",
            "    Destino: Marte\n",
            "    Tiempo de viaje: 175 minutos\n",
            "    Combustible total: 7400000 litros\n",
            "    external tanque contiene 7000000 litrosinternal tanque contiene 400000 litros\n"
          ]
        }
      ],
      "source": [
        "# Escribe tu nueva función\n",
        "def mission_report_update (destination, *minutes, **fuel_reservoirs):\n",
        "    \n",
        "    report = f\"\"\"Reporte de misión:\n",
        "    Destino: {destination}\n",
        "    Tiempo de viaje: {sum(minutes)} minutos\n",
        "    Combustible total: {sum ( fuel_reservoirs.values())} litros\n",
        "    \"\"\"\n",
        "    \n",
        "    for tank, capacity in fuel_reservoirs.items():\n",
        "        report += f\"{tank} tanque contiene {capacity} litros\"\n",
        "\n",
        "    return report\n",
        "    \n",
        "print(mission_report_update( \"Marte\" , 25, 30, 120, external = 7000000, internal = 400000 ))\n"
      ]
    },
    {
      "cell_type": "markdown",
      "metadata": {},
      "source": [
        "---\n",
        "\n",
        "Curso Propedútico de Python para Launch X - Innovacción Virtual.\n",
        "\n",
        "Material desarrollado con base en los contenidos de MSLearn y la metáfora de LaunchX, traducción e implementación por: Fernanda Ochoa - Learning Producer de LaunchX.\n",
        "\n",
        "Redes:\n",
        "* GitHub: [FernandaOchoa](https://github.com/FernandaOchoa)\n",
        "* Twitter: [@imonsh](https://twitter.com/imonsh)\n",
        "* Instagram: [fherz8a](https://www.instagram.com/fherz8a/)"
      ]
    }
  ],
  "metadata": {
    "interpreter": {
      "hash": "205095b8b86ea82a021a8fc2ffba2b3bc9f8d0be25999901963b225939f75778"
    },
    "kernelspec": {
      "display_name": "Python 3.8.10 64-bit ('tmp': conda)",
      "name": "python3"
    },
    "language_info": {
      "codemirror_mode": {
        "name": "ipython",
        "version": 3
      },
      "file_extension": ".py",
      "mimetype": "text/x-python",
      "name": "python",
      "nbconvert_exporter": "python",
      "pygments_lexer": "ipython3",
      "version": "3.9.5"
    },
    "nteract": {
      "version": "nteract-front-end@1.0.0"
    },
    "orig_nbformat": 4
  },
  "nbformat": 4,
  "nbformat_minor": 2
}
